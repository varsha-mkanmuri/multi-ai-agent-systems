{
 "cells": [
  {
   "cell_type": "markdown",
   "metadata": {},
   "source": [
    "You can download the `requirements.txt` for this course from the workspace of this lab. `File --> Open...`"
   ]
  },
  {
   "cell_type": "markdown",
   "metadata": {},
   "source": [
    "# L2: Create Agents to Research and Write an Article\n",
    "\n",
    "In this lesson, you will be introduced to the foundational concepts of multi-agent systems and get an overview of the crewAI framework."
   ]
  },
  {
   "cell_type": "markdown",
   "metadata": {},
   "source": [
    "The libraries are already installed in the classroom. If you're running this notebook on your own machine, you can install the following:\n",
    "```Python\n",
    "!pip install crewai==0.28.8 crewai_tools==0.1.6 langchain_community==0.0.29\n",
    "```"
   ]
  },
  {
   "cell_type": "code",
   "execution_count": 5,
   "metadata": {
    "height": 64
   },
   "outputs": [],
   "source": [
    "# Warning control\n",
    "import warnings\n",
    "warnings.filterwarnings('ignore')"
   ]
  },
  {
   "cell_type": "markdown",
   "metadata": {},
   "source": [
    "- Import from the crewAI libray."
   ]
  },
  {
   "cell_type": "code",
   "execution_count": 6,
   "metadata": {
    "height": 30
   },
   "outputs": [],
   "source": [
    "from crewai import Agent, Task, Crew"
   ]
  },
  {
   "cell_type": "markdown",
   "metadata": {},
   "source": [
    "- As a LLM for your agents, you'll be using OpenAI's `gpt-3.5-turbo`.\n",
    "\n",
    "**Optional Note:** crewAI also allow other popular models to be used as a LLM for your Agents. You can see some of the examples at the [bottom of the notebook](#1)."
   ]
  },
  {
   "cell_type": "code",
   "execution_count": 7,
   "metadata": {
    "height": 98
   },
   "outputs": [],
   "source": [
    "import os\n",
    "from utils import get_openai_api_key\n",
    "\n",
    "openai_api_key = get_openai_api_key()\n",
    "os.environ[\"OPENAI_MODEL_NAME\"] = 'gpt-3.5-turbo'"
   ]
  },
  {
   "cell_type": "markdown",
   "metadata": {},
   "source": [
    "## Creating Agents\n",
    "\n",
    "- Define your Agents, and provide them a `role`, `goal` and `backstory`.\n",
    "- It has been seen that LLMs perform better when they are role playing."
   ]
  },
  {
   "cell_type": "markdown",
   "metadata": {},
   "source": [
    "### Agent: Planner\n",
    "\n",
    "**Note**: The benefit of using _multiple strings_ :\n",
    "```Python\n",
    "varname = \"line 1 of text\"\n",
    "          \"line 2 of text\"\n",
    "```\n",
    "\n",
    "versus the _triple quote docstring_:\n",
    "```Python\n",
    "varname = \"\"\"line 1 of text\n",
    "             line 2 of text\n",
    "          \"\"\"\n",
    "```\n",
    "is that it can avoid adding those whitespaces and newline characters, making it better formatted to be passed to the LLM."
   ]
  },
  {
   "cell_type": "code",
   "execution_count": 8,
   "metadata": {
    "height": 234
   },
   "outputs": [],
   "source": [
    "planner = Agent(\n",
    "    role=\"Content Planner\",\n",
    "    goal=\"Plan engaging and factually accurate content on {topic}\",\n",
    "    backstory=\"You're working on planning a blog article \"\n",
    "              \"about the topic: {topic}.\"\n",
    "              \"You collect information that helps the \"\n",
    "              \"audience learn something \"\n",
    "              \"and make informed decisions. \"\n",
    "              \"Your work is the basis for \"\n",
    "              \"the Content Writer to write an article on this topic.\",\n",
    "    allow_delegation=False,\n",
    "\tverbose=True\n",
    ")"
   ]
  },
  {
   "cell_type": "markdown",
   "metadata": {},
   "source": [
    "### Agent: Writer"
   ]
  },
  {
   "cell_type": "code",
   "execution_count": 9,
   "metadata": {
    "height": 370
   },
   "outputs": [],
   "source": [
    "writer = Agent(\n",
    "    role=\"Content Writer\",\n",
    "    goal=\"Write insightful and factually accurate \"\n",
    "         \"opinion piece about the topic: {topic}\",\n",
    "    backstory=\"You're working on a writing \"\n",
    "              \"a new opinion piece about the topic: {topic}. \"\n",
    "              \"You base your writing on the work of \"\n",
    "              \"the Content Planner, who provides an outline \"\n",
    "              \"and relevant context about the topic. \"\n",
    "              \"You follow the main objectives and \"\n",
    "              \"direction of the outline, \"\n",
    "              \"as provide by the Content Planner. \"\n",
    "              \"You also provide objective and impartial insights \"\n",
    "              \"and back them up with information \"\n",
    "              \"provide by the Content Planner. \"\n",
    "              \"You acknowledge in your opinion piece \"\n",
    "              \"when your statements are opinions \"\n",
    "              \"as opposed to objective statements.\",\n",
    "    allow_delegation=False,\n",
    "    verbose=True\n",
    ")"
   ]
  },
  {
   "cell_type": "markdown",
   "metadata": {},
   "source": [
    "### Agent: Editor"
   ]
  },
  {
   "cell_type": "code",
   "execution_count": 10,
   "metadata": {
    "height": 268
   },
   "outputs": [],
   "source": [
    "editor = Agent(\n",
    "    role=\"Editor\",\n",
    "    goal=\"Edit a given blog post to align with \"\n",
    "         \"the writing style of the organization. \",\n",
    "    backstory=\"You are an editor who receives a blog post \"\n",
    "              \"from the Content Writer. \"\n",
    "              \"Your goal is to review the blog post \"\n",
    "              \"to ensure that it follows journalistic best practices,\"\n",
    "              \"provides balanced viewpoints \"\n",
    "              \"when providing opinions or assertions, \"\n",
    "              \"and also avoids major controversial topics \"\n",
    "              \"or opinions when possible.\",\n",
    "    allow_delegation=False,\n",
    "    verbose=True\n",
    ")"
   ]
  },
  {
   "cell_type": "markdown",
   "metadata": {},
   "source": [
    "## Creating Tasks\n",
    "\n",
    "- Define your Tasks, and provide them a `description`, `expected_output` and `agent`."
   ]
  },
  {
   "cell_type": "markdown",
   "metadata": {},
   "source": [
    "### Task: Plan"
   ]
  },
  {
   "cell_type": "code",
   "execution_count": 11,
   "metadata": {
    "height": 268
   },
   "outputs": [],
   "source": [
    "plan = Task(\n",
    "    description=(\n",
    "        \"1. Prioritize the latest trends, key players, \"\n",
    "            \"and noteworthy news on {topic}.\\n\"\n",
    "        \"2. Identify the target audience, considering \"\n",
    "            \"their interests and pain points.\\n\"\n",
    "        \"3. Develop a detailed content outline including \"\n",
    "            \"an introduction, key points, and a call to action.\\n\"\n",
    "        \"4. Include SEO keywords and relevant data or sources.\"\n",
    "    ),\n",
    "    expected_output=\"A comprehensive content plan document \"\n",
    "        \"with an outline, audience analysis, \"\n",
    "        \"SEO keywords, and resources.\",\n",
    "    agent=planner,\n",
    ")"
   ]
  },
  {
   "cell_type": "markdown",
   "metadata": {},
   "source": [
    "### Task: Write"
   ]
  },
  {
   "cell_type": "code",
   "execution_count": 12,
   "metadata": {
    "height": 319
   },
   "outputs": [],
   "source": [
    "write = Task(\n",
    "    description=(\n",
    "        \"1. Use the content plan to craft a compelling \"\n",
    "            \"blog post on {topic}.\\n\"\n",
    "        \"2. Incorporate SEO keywords naturally.\\n\"\n",
    "\t\t\"3. Sections/Subtitles are properly named \"\n",
    "            \"in an engaging manner.\\n\"\n",
    "        \"4. Ensure the post is structured with an \"\n",
    "            \"engaging introduction, insightful body, \"\n",
    "            \"and a summarizing conclusion.\\n\"\n",
    "        \"5. Proofread for grammatical errors and \"\n",
    "            \"alignment with the brand's voice.\\n\"\n",
    "    ),\n",
    "    expected_output=\"A well-written blog post \"\n",
    "        \"in markdown format, ready for publication, \"\n",
    "        \"each section should have 2 or 3 paragraphs.\",\n",
    "    agent=writer,\n",
    ")"
   ]
  },
  {
   "cell_type": "markdown",
   "metadata": {},
   "source": [
    "### Task: Edit"
   ]
  },
  {
   "cell_type": "code",
   "execution_count": 13,
   "metadata": {
    "height": 166
   },
   "outputs": [],
   "source": [
    "edit = Task(\n",
    "    description=(\"Proofread the given blog post for \"\n",
    "                 \"grammatical errors and \"\n",
    "                 \"alignment with the brand's voice.\"),\n",
    "    expected_output=\"A well-written blog post in markdown format, \"\n",
    "                    \"ready for publication, \"\n",
    "                    \"each section should have 2 or 3 paragraphs.\",\n",
    "    agent=editor\n",
    ")"
   ]
  },
  {
   "cell_type": "markdown",
   "metadata": {},
   "source": [
    "## Creating the Crew\n",
    "\n",
    "- Create your crew of Agents\n",
    "- Pass the tasks to be performed by those agents.\n",
    "    - **Note**: *For this simple example*, the tasks will be performed sequentially (i.e they are dependent on each other), so the _order_ of the task in the list _matters_.\n",
    "- `verbose=2` allows you to see all the logs of the execution. "
   ]
  },
  {
   "cell_type": "code",
   "execution_count": 14,
   "metadata": {
    "height": 98
   },
   "outputs": [],
   "source": [
    "crew = Crew(\n",
    "    agents=[planner, writer, editor],\n",
    "    tasks=[plan, write, edit],\n",
    "    verbose=2\n",
    ")"
   ]
  },
  {
   "cell_type": "markdown",
   "metadata": {},
   "source": [
    "## Running the Crew"
   ]
  },
  {
   "cell_type": "markdown",
   "metadata": {},
   "source": [
    "**Note**: LLMs can provide different outputs for they same input, so what you get might be different than what you see in the video."
   ]
  },
  {
   "cell_type": "code",
   "execution_count": 15,
   "metadata": {
    "height": 30
   },
   "outputs": [
    {
     "name": "stdout",
     "output_type": "stream",
     "text": [
      "\u001b[1m\u001b[95m [DEBUG]: == Working Agent: Content Planner\u001b[00m\n",
      "\u001b[1m\u001b[95m [INFO]: == Starting Task: 1. Prioritize the latest trends, key players, and noteworthy news on Artificial Intelligence.\n",
      "2. Identify the target audience, considering their interests and pain points.\n",
      "3. Develop a detailed content outline including an introduction, key points, and a call to action.\n",
      "4. Include SEO keywords and relevant data or sources.\u001b[00m\n",
      "\n",
      "\n",
      "\u001b[1m> Entering new CrewAgentExecutor chain...\u001b[0m\n",
      "\u001b[32;1m\u001b[1;3mI now can give a great answer\n",
      "\n",
      "Final Answer:\n",
      "Content Plan Document:\n",
      "\n",
      "Title: Unveiling the Latest Trends and Key Players in Artificial Intelligence\n",
      "\n",
      "Introduction:\n",
      "- Brief overview of artificial intelligence and its significance in today's technological landscape\n",
      "- Mention of the rapid advancements and innovations in AI technology\n",
      "- Preview of key trends and key players in the AI industry\n",
      "\n",
      "Key Points:\n",
      "1. Latest Trends in Artificial Intelligence:\n",
      "   a. Machine Learning: Applications and advancements\n",
      "   b. Natural Language Processing: Impact on communication and customer service\n",
      "   c. Robotics: Integration of AI in robotics for automation and efficiency\n",
      "   d. Predictive Analytics: Utilization of AI for data-driven decision making\n",
      "   e. AI Ethics: Discussion on ethical considerations in AI development and usage\n",
      "\n",
      "2. Key Players in Artificial Intelligence:\n",
      "   a. Google: Innovations in AI through projects like DeepMind and Google Brain\n",
      "   b. IBM: Watson AI platform for businesses and research\n",
      "   c. Amazon: AI technologies powering Alexa and Amazon Web Services\n",
      "   d. Microsoft: Azure AI services and research in cognitive computing\n",
      "   e. Tesla: AI-driven autonomous vehicles and advancements in AI hardware\n",
      "\n",
      "3. Target Audience Analysis:\n",
      "- Tech enthusiasts, professionals, and students interested in AI\n",
      "- Business owners looking to implement AI solutions in their operations\n",
      "- Researchers and academics studying artificial intelligence\n",
      "- Consumers curious about the impact of AI on daily life\n",
      "\n",
      "4. Call to Action:\n",
      "- Encourage readers to stay updated on AI trends and innovations\n",
      "- Invite them to engage in discussions on AI ethics and responsible AI usage\n",
      "- Provide resources for further reading and exploration of AI topics\n",
      "\n",
      "SEO Keywords:\n",
      "- Artificial Intelligence trends 2021\n",
      "- Key players in AI industry\n",
      "- Latest innovations in AI technology\n",
      "- Artificial Intelligence news updates\n",
      "\n",
      "Resources:\n",
      "- Forbes: Artificial Intelligence section for latest news and insights\n",
      "- MIT Technology Review: Articles on AI trends and developments\n",
      "- TechCrunch: Coverage of AI startups and advancements\n",
      "- Gartner: Reports on AI market trends and predictions\n",
      "- OpenAI: Research publications on artificial intelligence advancements\n",
      "\n",
      "Overall, this content plan aims to provide a comprehensive overview of the latest trends and key players in the artificial intelligence industry, catering to a diverse audience interested in the advancements and impact of AI technology.\u001b[0m\n",
      "\n",
      "\u001b[1m> Finished chain.\u001b[0m\n",
      "\u001b[1m\u001b[92m [DEBUG]: == [Content Planner] Task output: Content Plan Document:\n",
      "\n",
      "Title: Unveiling the Latest Trends and Key Players in Artificial Intelligence\n",
      "\n",
      "Introduction:\n",
      "- Brief overview of artificial intelligence and its significance in today's technological landscape\n",
      "- Mention of the rapid advancements and innovations in AI technology\n",
      "- Preview of key trends and key players in the AI industry\n",
      "\n",
      "Key Points:\n",
      "1. Latest Trends in Artificial Intelligence:\n",
      "   a. Machine Learning: Applications and advancements\n",
      "   b. Natural Language Processing: Impact on communication and customer service\n",
      "   c. Robotics: Integration of AI in robotics for automation and efficiency\n",
      "   d. Predictive Analytics: Utilization of AI for data-driven decision making\n",
      "   e. AI Ethics: Discussion on ethical considerations in AI development and usage\n",
      "\n",
      "2. Key Players in Artificial Intelligence:\n",
      "   a. Google: Innovations in AI through projects like DeepMind and Google Brain\n",
      "   b. IBM: Watson AI platform for businesses and research\n",
      "   c. Amazon: AI technologies powering Alexa and Amazon Web Services\n",
      "   d. Microsoft: Azure AI services and research in cognitive computing\n",
      "   e. Tesla: AI-driven autonomous vehicles and advancements in AI hardware\n",
      "\n",
      "3. Target Audience Analysis:\n",
      "- Tech enthusiasts, professionals, and students interested in AI\n",
      "- Business owners looking to implement AI solutions in their operations\n",
      "- Researchers and academics studying artificial intelligence\n",
      "- Consumers curious about the impact of AI on daily life\n",
      "\n",
      "4. Call to Action:\n",
      "- Encourage readers to stay updated on AI trends and innovations\n",
      "- Invite them to engage in discussions on AI ethics and responsible AI usage\n",
      "- Provide resources for further reading and exploration of AI topics\n",
      "\n",
      "SEO Keywords:\n",
      "- Artificial Intelligence trends 2021\n",
      "- Key players in AI industry\n",
      "- Latest innovations in AI technology\n",
      "- Artificial Intelligence news updates\n",
      "\n",
      "Resources:\n",
      "- Forbes: Artificial Intelligence section for latest news and insights\n",
      "- MIT Technology Review: Articles on AI trends and developments\n",
      "- TechCrunch: Coverage of AI startups and advancements\n",
      "- Gartner: Reports on AI market trends and predictions\n",
      "- OpenAI: Research publications on artificial intelligence advancements\n",
      "\n",
      "Overall, this content plan aims to provide a comprehensive overview of the latest trends and key players in the artificial intelligence industry, catering to a diverse audience interested in the advancements and impact of AI technology.\n",
      "\n",
      "\u001b[00m\n",
      "\u001b[1m\u001b[95m [DEBUG]: == Working Agent: Content Writer\u001b[00m\n",
      "\u001b[1m\u001b[95m [INFO]: == Starting Task: 1. Use the content plan to craft a compelling blog post on Artificial Intelligence.\n",
      "2. Incorporate SEO keywords naturally.\n",
      "3. Sections/Subtitles are properly named in an engaging manner.\n",
      "4. Ensure the post is structured with an engaging introduction, insightful body, and a summarizing conclusion.\n",
      "5. Proofread for grammatical errors and alignment with the brand's voice.\n",
      "\u001b[00m\n",
      "\n",
      "\n",
      "\u001b[1m> Entering new CrewAgentExecutor chain...\u001b[0m\n",
      "\u001b[32;1m\u001b[1;3mI now can give a great answer\n",
      "\n",
      "Final Answer:\n",
      "\n",
      "# Unveiling the Latest Trends and Key Players in Artificial Intelligence\n",
      "\n",
      "## Introduction\n",
      "Artificial Intelligence (AI) has become a cornerstone of today's technological landscape, revolutionizing industries and reshaping the way we interact with technology. The rapid advancements in AI have propelled innovation to new heights, leading to groundbreaking developments in various sectors. In this blog post, we will delve into the latest trends and key players in the AI industry, exploring the cutting-edge technologies shaping the future of AI.\n",
      "\n",
      "## Latest Trends in Artificial Intelligence\n",
      "### Machine Learning\n",
      "Machine learning stands at the forefront of AI innovation, with applications ranging from personalized recommendations to autonomous vehicles. The continuous advancements in machine learning algorithms have enabled AI systems to learn from data and improve their performance over time, leading to more efficient and accurate outcomes in various domains.\n",
      "\n",
      "### Natural Language Processing\n",
      "Natural Language Processing (NLP) has transformed the way we communicate with machines, enabling seamless interactions through voice assistants and chatbots. The impact of NLP in customer service has been particularly significant, enhancing user experiences and streamlining communication processes for businesses.\n",
      "\n",
      "### Robotics\n",
      "The integration of AI in robotics has paved the way for automation and efficiency in industries such as manufacturing and healthcare. AI-driven robots are capable of performing complex tasks with precision, leading to increased productivity and cost savings for organizations embracing robotic automation.\n",
      "\n",
      "### Predictive Analytics\n",
      "Predictive analytics harnesses the power of AI to make data-driven decisions and forecast future outcomes with accuracy. By analyzing vast amounts of data, AI algorithms can identify patterns and trends, empowering businesses to optimize operations and drive strategic decision-making based on predictive insights.\n",
      "\n",
      "### AI Ethics\n",
      "As AI technologies continue to evolve, the discussion on ethical considerations in AI development and usage has become increasingly prominent. Addressing issues such as bias, transparency, and accountability is crucial to ensuring the responsible and ethical deployment of AI systems in society.\n",
      "\n",
      "## Key Players in Artificial Intelligence\n",
      "### Google\n",
      "Google remains a key player in the AI industry, driving innovation through projects like DeepMind and Google Brain. Their AI research and development efforts have led to groundbreaking discoveries in machine learning and neural networks, shaping the future of AI technologies.\n",
      "\n",
      "### IBM\n",
      "IBM's Watson AI platform has been instrumental in providing businesses and researchers with advanced AI capabilities for data analysis, cognitive computing, and natural language processing. Their contributions to AI research and applications have positioned them as a leader in the field.\n",
      "\n",
      "### Amazon\n",
      "Amazon leverages AI technologies to power products like Alexa and Amazon Web Services, offering cutting-edge solutions for voice recognition, natural language understanding, and cloud computing. Their commitment to AI innovation has solidified their position as a major player in the AI industry.\n",
      "\n",
      "### Microsoft\n",
      "Microsoft's Azure AI services and ongoing research in cognitive computing have positioned them as a frontrunner in AI technology development. Their contributions to AI-driven solutions for businesses and consumers have driven significant advancements in the field.\n",
      "\n",
      "### Tesla\n",
      "Tesla's focus on AI-driven autonomous vehicles and advancements in AI hardware has revolutionized the automotive industry. Their innovative approach to integrating AI technologies into electric vehicles has set new standards for safety, efficiency, and autonomous capabilities.\n",
      "\n",
      "## Target Audience Analysis\n",
      "Tech enthusiasts, professionals, and students interested in AI will find valuable insights in the latest trends and key players highlighted in this blog post. Business owners looking to implement AI solutions in their operations can gain valuable knowledge about the innovative AI technologies driving efficiency and automation. Researchers and academics studying artificial intelligence will benefit from the comprehensive overview of AI advancements and key players in the industry. Consumers curious about the impact of AI on daily life will discover how AI technologies are shaping the way we interact with technology and the world around us.\n",
      "\n",
      "## Call to Action\n",
      "As AI continues to evolve, it is essential for readers to stay updated on the latest trends and innovations in the AI industry. Engaging in discussions on AI ethics and responsible AI usage is crucial for shaping the future of AI technology in a positive and impactful way. For further reading and exploration of AI topics, readers are encouraged to explore resources provided by Forbes, MIT Technology Review, TechCrunch, Gartner, and OpenAI to stay informed and engaged with the latest developments in artificial intelligence.\n",
      "\n",
      "In conclusion, this blog post aims to provide a comprehensive overview of the latest trends and key players in the artificial intelligence industry, catering to a diverse audience interested in the advancements and impact of AI technology. Stay informed, stay engaged, and be part of the ever-evolving landscape of artificial intelligence.\u001b[0m\n",
      "\n",
      "\u001b[1m> Finished chain.\u001b[0m\n",
      "\u001b[1m\u001b[92m [DEBUG]: == [Content Writer] Task output: # Unveiling the Latest Trends and Key Players in Artificial Intelligence\n",
      "\n",
      "## Introduction\n",
      "Artificial Intelligence (AI) has become a cornerstone of today's technological landscape, revolutionizing industries and reshaping the way we interact with technology. The rapid advancements in AI have propelled innovation to new heights, leading to groundbreaking developments in various sectors. In this blog post, we will delve into the latest trends and key players in the AI industry, exploring the cutting-edge technologies shaping the future of AI.\n",
      "\n",
      "## Latest Trends in Artificial Intelligence\n",
      "### Machine Learning\n",
      "Machine learning stands at the forefront of AI innovation, with applications ranging from personalized recommendations to autonomous vehicles. The continuous advancements in machine learning algorithms have enabled AI systems to learn from data and improve their performance over time, leading to more efficient and accurate outcomes in various domains.\n",
      "\n",
      "### Natural Language Processing\n",
      "Natural Language Processing (NLP) has transformed the way we communicate with machines, enabling seamless interactions through voice assistants and chatbots. The impact of NLP in customer service has been particularly significant, enhancing user experiences and streamlining communication processes for businesses.\n",
      "\n",
      "### Robotics\n",
      "The integration of AI in robotics has paved the way for automation and efficiency in industries such as manufacturing and healthcare. AI-driven robots are capable of performing complex tasks with precision, leading to increased productivity and cost savings for organizations embracing robotic automation.\n",
      "\n",
      "### Predictive Analytics\n",
      "Predictive analytics harnesses the power of AI to make data-driven decisions and forecast future outcomes with accuracy. By analyzing vast amounts of data, AI algorithms can identify patterns and trends, empowering businesses to optimize operations and drive strategic decision-making based on predictive insights.\n",
      "\n",
      "### AI Ethics\n",
      "As AI technologies continue to evolve, the discussion on ethical considerations in AI development and usage has become increasingly prominent. Addressing issues such as bias, transparency, and accountability is crucial to ensuring the responsible and ethical deployment of AI systems in society.\n",
      "\n",
      "## Key Players in Artificial Intelligence\n",
      "### Google\n",
      "Google remains a key player in the AI industry, driving innovation through projects like DeepMind and Google Brain. Their AI research and development efforts have led to groundbreaking discoveries in machine learning and neural networks, shaping the future of AI technologies.\n",
      "\n",
      "### IBM\n",
      "IBM's Watson AI platform has been instrumental in providing businesses and researchers with advanced AI capabilities for data analysis, cognitive computing, and natural language processing. Their contributions to AI research and applications have positioned them as a leader in the field.\n",
      "\n",
      "### Amazon\n",
      "Amazon leverages AI technologies to power products like Alexa and Amazon Web Services, offering cutting-edge solutions for voice recognition, natural language understanding, and cloud computing. Their commitment to AI innovation has solidified their position as a major player in the AI industry.\n",
      "\n",
      "### Microsoft\n",
      "Microsoft's Azure AI services and ongoing research in cognitive computing have positioned them as a frontrunner in AI technology development. Their contributions to AI-driven solutions for businesses and consumers have driven significant advancements in the field.\n",
      "\n",
      "### Tesla\n",
      "Tesla's focus on AI-driven autonomous vehicles and advancements in AI hardware has revolutionized the automotive industry. Their innovative approach to integrating AI technologies into electric vehicles has set new standards for safety, efficiency, and autonomous capabilities.\n",
      "\n",
      "## Target Audience Analysis\n",
      "Tech enthusiasts, professionals, and students interested in AI will find valuable insights in the latest trends and key players highlighted in this blog post. Business owners looking to implement AI solutions in their operations can gain valuable knowledge about the innovative AI technologies driving efficiency and automation. Researchers and academics studying artificial intelligence will benefit from the comprehensive overview of AI advancements and key players in the industry. Consumers curious about the impact of AI on daily life will discover how AI technologies are shaping the way we interact with technology and the world around us.\n",
      "\n",
      "## Call to Action\n",
      "As AI continues to evolve, it is essential for readers to stay updated on the latest trends and innovations in the AI industry. Engaging in discussions on AI ethics and responsible AI usage is crucial for shaping the future of AI technology in a positive and impactful way. For further reading and exploration of AI topics, readers are encouraged to explore resources provided by Forbes, MIT Technology Review, TechCrunch, Gartner, and OpenAI to stay informed and engaged with the latest developments in artificial intelligence.\n",
      "\n",
      "In conclusion, this blog post aims to provide a comprehensive overview of the latest trends and key players in the artificial intelligence industry, catering to a diverse audience interested in the advancements and impact of AI technology. Stay informed, stay engaged, and be part of the ever-evolving landscape of artificial intelligence.\n",
      "\n",
      "\u001b[00m\n",
      "\u001b[1m\u001b[95m [DEBUG]: == Working Agent: Editor\u001b[00m\n",
      "\u001b[1m\u001b[95m [INFO]: == Starting Task: Proofread the given blog post for grammatical errors and alignment with the brand's voice.\u001b[00m\n",
      "\n",
      "\n",
      "\u001b[1m> Entering new CrewAgentExecutor chain...\u001b[0m\n"
     ]
    },
    {
     "name": "stdout",
     "output_type": "stream",
     "text": [
      "\u001b[32;1m\u001b[1;3mI now can give a great answer\n",
      "\n",
      "Final Answer:\n",
      "# Unveiling the Latest Trends and Key Players in Artificial Intelligence\n",
      "\n",
      "## Introduction\n",
      "Artificial Intelligence (AI) has become a cornerstone of today's technological landscape, revolutionizing industries and reshaping the way we interact with technology. The rapid advancements in AI have propelled innovation to new heights, leading to groundbreaking developments in various sectors. In this blog post, we will delve into the latest trends and key players in the AI industry, exploring the cutting-edge technologies shaping the future of AI.\n",
      "\n",
      "## Latest Trends in Artificial Intelligence\n",
      "### Machine Learning\n",
      "Machine learning stands at the forefront of AI innovation, with applications ranging from personalized recommendations to autonomous vehicles. The continuous advancements in machine learning algorithms have enabled AI systems to learn from data and improve their performance over time, leading to more efficient and accurate outcomes in various domains.\n",
      "\n",
      "### Natural Language Processing\n",
      "Natural Language Processing (NLP) has transformed the way we communicate with machines, enabling seamless interactions through voice assistants and chatbots. The impact of NLP in customer service has been particularly significant, enhancing user experiences and streamlining communication processes for businesses.\n",
      "\n",
      "### Robotics\n",
      "The integration of AI in robotics has paved the way for automation and efficiency in industries such as manufacturing and healthcare. AI-driven robots are capable of performing complex tasks with precision, leading to increased productivity and cost savings for organizations embracing robotic automation.\n",
      "\n",
      "### Predictive Analytics\n",
      "Predictive analytics harnesses the power of AI to make data-driven decisions and forecast future outcomes with accuracy. By analyzing vast amounts of data, AI algorithms can identify patterns and trends, empowering businesses to optimize operations and drive strategic decision-making based on predictive insights.\n",
      "\n",
      "### AI Ethics\n",
      "As AI technologies continue to evolve, the discussion on ethical considerations in AI development and usage has become increasingly prominent. Addressing issues such as bias, transparency, and accountability is crucial to ensuring the responsible and ethical deployment of AI systems in society.\n",
      "\n",
      "## Key Players in Artificial Intelligence\n",
      "### Google\n",
      "Google remains a key player in the AI industry, driving innovation through projects like DeepMind and Google Brain. Their AI research and development efforts have led to groundbreaking discoveries in machine learning and neural networks, shaping the future of AI technologies.\n",
      "\n",
      "### IBM\n",
      "IBM's Watson AI platform has been instrumental in providing businesses and researchers with advanced AI capabilities for data analysis, cognitive computing, and natural language processing. Their contributions to AI research and applications have positioned them as a leader in the field.\n",
      "\n",
      "### Amazon\n",
      "Amazon leverages AI technologies to power products like Alexa and Amazon Web Services, offering cutting-edge solutions for voice recognition, natural language understanding, and cloud computing. Their commitment to AI innovation has solidified their position as a major player in the AI industry.\n",
      "\n",
      "### Microsoft\n",
      "Microsoft's Azure AI services and ongoing research in cognitive computing have positioned them as a frontrunner in AI technology development. Their contributions to AI-driven solutions for businesses and consumers have driven significant advancements in the field.\n",
      "\n",
      "### Tesla\n",
      "Tesla's focus on AI-driven autonomous vehicles and advancements in AI hardware has revolutionized the automotive industry. Their innovative approach to integrating AI technologies into electric vehicles has set new standards for safety, efficiency, and autonomous capabilities.\n",
      "\n",
      "## Target Audience Analysis\n",
      "Tech enthusiasts, professionals, and students interested in AI will find valuable insights in the latest trends and key players highlighted in this blog post. Business owners looking to implement AI solutions in their operations can gain valuable knowledge about the innovative AI technologies driving efficiency and automation. Researchers and academics studying artificial intelligence will benefit from the comprehensive overview of AI advancements and key players in the industry. Consumers curious about the impact of AI on daily life will discover how AI technologies are shaping the way we interact with technology and the world around us.\n",
      "\n",
      "## Call to Action\n",
      "As AI continues to evolve, it is essential for readers to stay updated on the latest trends and innovations in the AI industry. Engaging in discussions on AI ethics and responsible AI usage is crucial for shaping the future of AI technology in a positive and impactful way. For further reading and exploration of AI topics, readers are encouraged to explore resources provided by Forbes, MIT Technology Review, TechCrunch, Gartner, and OpenAI to stay informed and engaged with the latest developments in artificial intelligence.\n",
      "\n",
      "In conclusion, this blog post aims to provide a comprehensive overview of the latest trends and key players in the artificial intelligence industry, catering to a diverse audience interested in the advancements and impact of AI technology. Stay informed, stay engaged, and be part of the ever-evolving landscape of artificial intelligence.\u001b[0m\n",
      "\n",
      "\u001b[1m> Finished chain.\u001b[0m\n",
      "\u001b[1m\u001b[92m [DEBUG]: == [Editor] Task output: # Unveiling the Latest Trends and Key Players in Artificial Intelligence\n",
      "\n",
      "## Introduction\n",
      "Artificial Intelligence (AI) has become a cornerstone of today's technological landscape, revolutionizing industries and reshaping the way we interact with technology. The rapid advancements in AI have propelled innovation to new heights, leading to groundbreaking developments in various sectors. In this blog post, we will delve into the latest trends and key players in the AI industry, exploring the cutting-edge technologies shaping the future of AI.\n",
      "\n",
      "## Latest Trends in Artificial Intelligence\n",
      "### Machine Learning\n",
      "Machine learning stands at the forefront of AI innovation, with applications ranging from personalized recommendations to autonomous vehicles. The continuous advancements in machine learning algorithms have enabled AI systems to learn from data and improve their performance over time, leading to more efficient and accurate outcomes in various domains.\n",
      "\n",
      "### Natural Language Processing\n",
      "Natural Language Processing (NLP) has transformed the way we communicate with machines, enabling seamless interactions through voice assistants and chatbots. The impact of NLP in customer service has been particularly significant, enhancing user experiences and streamlining communication processes for businesses.\n",
      "\n",
      "### Robotics\n",
      "The integration of AI in robotics has paved the way for automation and efficiency in industries such as manufacturing and healthcare. AI-driven robots are capable of performing complex tasks with precision, leading to increased productivity and cost savings for organizations embracing robotic automation.\n",
      "\n",
      "### Predictive Analytics\n",
      "Predictive analytics harnesses the power of AI to make data-driven decisions and forecast future outcomes with accuracy. By analyzing vast amounts of data, AI algorithms can identify patterns and trends, empowering businesses to optimize operations and drive strategic decision-making based on predictive insights.\n",
      "\n",
      "### AI Ethics\n",
      "As AI technologies continue to evolve, the discussion on ethical considerations in AI development and usage has become increasingly prominent. Addressing issues such as bias, transparency, and accountability is crucial to ensuring the responsible and ethical deployment of AI systems in society.\n",
      "\n",
      "## Key Players in Artificial Intelligence\n",
      "### Google\n",
      "Google remains a key player in the AI industry, driving innovation through projects like DeepMind and Google Brain. Their AI research and development efforts have led to groundbreaking discoveries in machine learning and neural networks, shaping the future of AI technologies.\n",
      "\n",
      "### IBM\n",
      "IBM's Watson AI platform has been instrumental in providing businesses and researchers with advanced AI capabilities for data analysis, cognitive computing, and natural language processing. Their contributions to AI research and applications have positioned them as a leader in the field.\n",
      "\n",
      "### Amazon\n",
      "Amazon leverages AI technologies to power products like Alexa and Amazon Web Services, offering cutting-edge solutions for voice recognition, natural language understanding, and cloud computing. Their commitment to AI innovation has solidified their position as a major player in the AI industry.\n",
      "\n",
      "### Microsoft\n",
      "Microsoft's Azure AI services and ongoing research in cognitive computing have positioned them as a frontrunner in AI technology development. Their contributions to AI-driven solutions for businesses and consumers have driven significant advancements in the field.\n",
      "\n",
      "### Tesla\n",
      "Tesla's focus on AI-driven autonomous vehicles and advancements in AI hardware has revolutionized the automotive industry. Their innovative approach to integrating AI technologies into electric vehicles has set new standards for safety, efficiency, and autonomous capabilities.\n",
      "\n",
      "## Target Audience Analysis\n",
      "Tech enthusiasts, professionals, and students interested in AI will find valuable insights in the latest trends and key players highlighted in this blog post. Business owners looking to implement AI solutions in their operations can gain valuable knowledge about the innovative AI technologies driving efficiency and automation. Researchers and academics studying artificial intelligence will benefit from the comprehensive overview of AI advancements and key players in the industry. Consumers curious about the impact of AI on daily life will discover how AI technologies are shaping the way we interact with technology and the world around us.\n",
      "\n",
      "## Call to Action\n",
      "As AI continues to evolve, it is essential for readers to stay updated on the latest trends and innovations in the AI industry. Engaging in discussions on AI ethics and responsible AI usage is crucial for shaping the future of AI technology in a positive and impactful way. For further reading and exploration of AI topics, readers are encouraged to explore resources provided by Forbes, MIT Technology Review, TechCrunch, Gartner, and OpenAI to stay informed and engaged with the latest developments in artificial intelligence.\n",
      "\n",
      "In conclusion, this blog post aims to provide a comprehensive overview of the latest trends and key players in the artificial intelligence industry, catering to a diverse audience interested in the advancements and impact of AI technology. Stay informed, stay engaged, and be part of the ever-evolving landscape of artificial intelligence.\n",
      "\n",
      "\u001b[00m\n"
     ]
    }
   ],
   "source": [
    "result = crew.kickoff(inputs={\"topic\": \"Artificial Intelligence\"})"
   ]
  },
  {
   "cell_type": "markdown",
   "metadata": {},
   "source": [
    "- Display the results of your execution as markdown in the notebook."
   ]
  },
  {
   "cell_type": "code",
   "execution_count": 16,
   "metadata": {
    "height": 47
   },
   "outputs": [
    {
     "data": {
      "text/markdown": [
       "# Unveiling the Latest Trends and Key Players in Artificial Intelligence\n",
       "\n",
       "## Introduction\n",
       "Artificial Intelligence (AI) has become a cornerstone of today's technological landscape, revolutionizing industries and reshaping the way we interact with technology. The rapid advancements in AI have propelled innovation to new heights, leading to groundbreaking developments in various sectors. In this blog post, we will delve into the latest trends and key players in the AI industry, exploring the cutting-edge technologies shaping the future of AI.\n",
       "\n",
       "## Latest Trends in Artificial Intelligence\n",
       "### Machine Learning\n",
       "Machine learning stands at the forefront of AI innovation, with applications ranging from personalized recommendations to autonomous vehicles. The continuous advancements in machine learning algorithms have enabled AI systems to learn from data and improve their performance over time, leading to more efficient and accurate outcomes in various domains.\n",
       "\n",
       "### Natural Language Processing\n",
       "Natural Language Processing (NLP) has transformed the way we communicate with machines, enabling seamless interactions through voice assistants and chatbots. The impact of NLP in customer service has been particularly significant, enhancing user experiences and streamlining communication processes for businesses.\n",
       "\n",
       "### Robotics\n",
       "The integration of AI in robotics has paved the way for automation and efficiency in industries such as manufacturing and healthcare. AI-driven robots are capable of performing complex tasks with precision, leading to increased productivity and cost savings for organizations embracing robotic automation.\n",
       "\n",
       "### Predictive Analytics\n",
       "Predictive analytics harnesses the power of AI to make data-driven decisions and forecast future outcomes with accuracy. By analyzing vast amounts of data, AI algorithms can identify patterns and trends, empowering businesses to optimize operations and drive strategic decision-making based on predictive insights.\n",
       "\n",
       "### AI Ethics\n",
       "As AI technologies continue to evolve, the discussion on ethical considerations in AI development and usage has become increasingly prominent. Addressing issues such as bias, transparency, and accountability is crucial to ensuring the responsible and ethical deployment of AI systems in society.\n",
       "\n",
       "## Key Players in Artificial Intelligence\n",
       "### Google\n",
       "Google remains a key player in the AI industry, driving innovation through projects like DeepMind and Google Brain. Their AI research and development efforts have led to groundbreaking discoveries in machine learning and neural networks, shaping the future of AI technologies.\n",
       "\n",
       "### IBM\n",
       "IBM's Watson AI platform has been instrumental in providing businesses and researchers with advanced AI capabilities for data analysis, cognitive computing, and natural language processing. Their contributions to AI research and applications have positioned them as a leader in the field.\n",
       "\n",
       "### Amazon\n",
       "Amazon leverages AI technologies to power products like Alexa and Amazon Web Services, offering cutting-edge solutions for voice recognition, natural language understanding, and cloud computing. Their commitment to AI innovation has solidified their position as a major player in the AI industry.\n",
       "\n",
       "### Microsoft\n",
       "Microsoft's Azure AI services and ongoing research in cognitive computing have positioned them as a frontrunner in AI technology development. Their contributions to AI-driven solutions for businesses and consumers have driven significant advancements in the field.\n",
       "\n",
       "### Tesla\n",
       "Tesla's focus on AI-driven autonomous vehicles and advancements in AI hardware has revolutionized the automotive industry. Their innovative approach to integrating AI technologies into electric vehicles has set new standards for safety, efficiency, and autonomous capabilities.\n",
       "\n",
       "## Target Audience Analysis\n",
       "Tech enthusiasts, professionals, and students interested in AI will find valuable insights in the latest trends and key players highlighted in this blog post. Business owners looking to implement AI solutions in their operations can gain valuable knowledge about the innovative AI technologies driving efficiency and automation. Researchers and academics studying artificial intelligence will benefit from the comprehensive overview of AI advancements and key players in the industry. Consumers curious about the impact of AI on daily life will discover how AI technologies are shaping the way we interact with technology and the world around us.\n",
       "\n",
       "## Call to Action\n",
       "As AI continues to evolve, it is essential for readers to stay updated on the latest trends and innovations in the AI industry. Engaging in discussions on AI ethics and responsible AI usage is crucial for shaping the future of AI technology in a positive and impactful way. For further reading and exploration of AI topics, readers are encouraged to explore resources provided by Forbes, MIT Technology Review, TechCrunch, Gartner, and OpenAI to stay informed and engaged with the latest developments in artificial intelligence.\n",
       "\n",
       "In conclusion, this blog post aims to provide a comprehensive overview of the latest trends and key players in the artificial intelligence industry, catering to a diverse audience interested in the advancements and impact of AI technology. Stay informed, stay engaged, and be part of the ever-evolving landscape of artificial intelligence."
      ],
      "text/plain": [
       "<IPython.core.display.Markdown object>"
      ]
     },
     "execution_count": 16,
     "metadata": {},
     "output_type": "execute_result"
    }
   ],
   "source": [
    "from IPython.display import Markdown\n",
    "Markdown(result)"
   ]
  },
  {
   "cell_type": "markdown",
   "metadata": {},
   "source": [
    "## Try it Yourself\n",
    "\n",
    "- Pass in a topic of your choice and see what the agents come up with!"
   ]
  },
  {
   "cell_type": "code",
   "execution_count": 18,
   "metadata": {
    "height": 47
   },
   "outputs": [
    {
     "name": "stdout",
     "output_type": "stream",
     "text": [
      "\u001b[1m\u001b[95m [DEBUG]: == Working Agent: Content Planner\u001b[00m\n",
      "\u001b[1m\u001b[95m [INFO]: == Starting Task: 1. Prioritize the latest trends, key players, and noteworthy news on Create a leetcode study plan for me. I want to specifically focus on dynamic programming. .\n",
      "2. Identify the target audience, considering their interests and pain points.\n",
      "3. Develop a detailed content outline including an introduction, key points, and a call to action.\n",
      "4. Include SEO keywords and relevant data or sources.\u001b[00m\n",
      "\n",
      "\n",
      "\u001b[1m> Entering new CrewAgentExecutor chain...\u001b[0m\n",
      "\u001b[32;1m\u001b[1;3mI now have all the necessary tools and information to create a comprehensive content plan on creating a Leetcode study plan focusing on dynamic programming. I am confident in my ability to provide a detailed outline, analyze the target audience, incorporate relevant SEO keywords, and include credible resources in my final answer.\n",
      "\n",
      "Final Answer:\n",
      "Content Plan Document\n",
      "\n",
      "Title: Create a Leetcode Study Plan: Mastering Dynamic Programming\n",
      "\n",
      "Introduction:\n",
      "- Brief overview of the importance of dynamic programming in algorithmic problem-solving\n",
      "- Introduce the concept of Leetcode and its role in helping individuals practice coding skills\n",
      "- Preview the benefits of creating a structured study plan for mastering dynamic programming on Leetcode\n",
      "\n",
      "Key Points:\n",
      "1. Understanding Dynamic Programming:\n",
      "- Explanation of dynamic programming principles and its application in solving complex problems\n",
      "- Examples of dynamic programming problems on Leetcode and their solutions\n",
      "- Tips for recognizing when to apply dynamic programming techniques\n",
      "\n",
      "2. Creating a Leetcode Study Plan:\n",
      "- Setting specific goals and objectives for improving dynamic programming skills\n",
      "- Breaking down the study plan into manageable tasks and topics to cover\n",
      "- Suggested resources and practice problems on Leetcode for each level of proficiency\n",
      "\n",
      "3. Implementing the Study Plan:\n",
      "- Strategies for effective time management and consistent practice\n",
      "- Tracking progress and adjusting the study plan as needed based on performance\n",
      "- Engaging with the Leetcode community for support and feedback\n",
      "\n",
      "Call to Action:\n",
      "- Encourage readers to create their own Leetcode study plan focusing on dynamic programming\n",
      "- Provide a template or guide for structuring their study plan\n",
      "- Invite readers to share their experiences and progress with the community\n",
      "\n",
      "Audience Analysis:\n",
      "Target Audience: Software developers, computer science students, coding enthusiasts\n",
      "Interests: Improving coding skills, mastering algorithmic problem-solving, participating in coding competitions\n",
      "Pain Points: Struggling to understand and apply dynamic programming concepts, feeling overwhelmed by the vast amount of problems on Leetcode, lacking a structured approach to practice\n",
      "\n",
      "SEO Keywords:\n",
      "- Leetcode study plan\n",
      "- Dynamic programming practice\n",
      "- Algorithmic problem-solving techniques\n",
      "- Coding skills improvement\n",
      "- Leetcode community support\n",
      "\n",
      "Resources:\n",
      "1. Leetcode - https://leetcode.com/\n",
      "2. Dynamic Programming Tutorial - https://www.geeksforgeeks.org/dynamic-programming/\n",
      "3. The Algorithm Design Manual by Steven S. Skiena\n",
      "4. Cracking the Coding Interview by Gayle Laakmann McDowell\n",
      "\n",
      "By following this comprehensive content plan, readers will be equipped with the necessary tools and guidance to create a successful Leetcode study plan focusing on dynamic programming.\u001b[0m\n",
      "\n",
      "\u001b[1m> Finished chain.\u001b[0m\n",
      "\u001b[1m\u001b[92m [DEBUG]: == [Content Planner] Task output: Content Plan Document\n",
      "\n",
      "Title: Create a Leetcode Study Plan: Mastering Dynamic Programming\n",
      "\n",
      "Introduction:\n",
      "- Brief overview of the importance of dynamic programming in algorithmic problem-solving\n",
      "- Introduce the concept of Leetcode and its role in helping individuals practice coding skills\n",
      "- Preview the benefits of creating a structured study plan for mastering dynamic programming on Leetcode\n",
      "\n",
      "Key Points:\n",
      "1. Understanding Dynamic Programming:\n",
      "- Explanation of dynamic programming principles and its application in solving complex problems\n",
      "- Examples of dynamic programming problems on Leetcode and their solutions\n",
      "- Tips for recognizing when to apply dynamic programming techniques\n",
      "\n",
      "2. Creating a Leetcode Study Plan:\n",
      "- Setting specific goals and objectives for improving dynamic programming skills\n",
      "- Breaking down the study plan into manageable tasks and topics to cover\n",
      "- Suggested resources and practice problems on Leetcode for each level of proficiency\n",
      "\n",
      "3. Implementing the Study Plan:\n",
      "- Strategies for effective time management and consistent practice\n",
      "- Tracking progress and adjusting the study plan as needed based on performance\n",
      "- Engaging with the Leetcode community for support and feedback\n",
      "\n",
      "Call to Action:\n",
      "- Encourage readers to create their own Leetcode study plan focusing on dynamic programming\n",
      "- Provide a template or guide for structuring their study plan\n",
      "- Invite readers to share their experiences and progress with the community\n",
      "\n",
      "Audience Analysis:\n",
      "Target Audience: Software developers, computer science students, coding enthusiasts\n",
      "Interests: Improving coding skills, mastering algorithmic problem-solving, participating in coding competitions\n",
      "Pain Points: Struggling to understand and apply dynamic programming concepts, feeling overwhelmed by the vast amount of problems on Leetcode, lacking a structured approach to practice\n",
      "\n",
      "SEO Keywords:\n",
      "- Leetcode study plan\n",
      "- Dynamic programming practice\n",
      "- Algorithmic problem-solving techniques\n",
      "- Coding skills improvement\n",
      "- Leetcode community support\n",
      "\n",
      "Resources:\n",
      "1. Leetcode - https://leetcode.com/\n",
      "2. Dynamic Programming Tutorial - https://www.geeksforgeeks.org/dynamic-programming/\n",
      "3. The Algorithm Design Manual by Steven S. Skiena\n",
      "4. Cracking the Coding Interview by Gayle Laakmann McDowell\n",
      "\n",
      "By following this comprehensive content plan, readers will be equipped with the necessary tools and guidance to create a successful Leetcode study plan focusing on dynamic programming.\n",
      "\n",
      "\u001b[00m\n",
      "\u001b[1m\u001b[95m [DEBUG]: == Working Agent: Content Writer\u001b[00m\n",
      "\u001b[1m\u001b[95m [INFO]: == Starting Task: 1. Use the content plan to craft a compelling blog post on Create a leetcode study plan for me. I want to specifically focus on dynamic programming. .\n",
      "2. Incorporate SEO keywords naturally.\n",
      "3. Sections/Subtitles are properly named in an engaging manner.\n",
      "4. Ensure the post is structured with an engaging introduction, insightful body, and a summarizing conclusion.\n",
      "5. Proofread for grammatical errors and alignment with the brand's voice.\n",
      "\u001b[00m\n",
      "\n",
      "\n",
      "\u001b[1m> Entering new CrewAgentExecutor chain...\u001b[0m\n",
      "\u001b[32;1m\u001b[1;3mI am confident that I can craft a well-researched and engaging opinion piece on creating a Leetcode study plan specifically focusing on dynamic programming. By following the detailed content plan provided, I can provide valuable insights and tips for individuals looking to improve their coding skills in this area.\n",
      "\n",
      "Final Answer:\n",
      "\n",
      "# Create a Leetcode Study Plan: Mastering Dynamic Programming\n",
      "\n",
      "## Introduction\n",
      "\n",
      "Dynamic programming plays a crucial role in algorithmic problem-solving, offering efficient solutions to complex problems by breaking them down into smaller subproblems. Platforms like Leetcode provide a valuable resource for individuals to practice coding skills and enhance their understanding of dynamic programming techniques. By creating a structured study plan focused on mastering dynamic programming on Leetcode, individuals can benefit from consistent practice and improvement in their coding abilities.\n",
      "\n",
      "## Understanding Dynamic Programming\n",
      "\n",
      "Dynamic programming involves breaking down a problem into smaller subproblems and solving each subproblem only once, storing the results to avoid redundant computations. This approach greatly enhances the efficiency of algorithms and is particularly useful in solving optimization problems. Leetcode offers a wide range of dynamic programming problems, such as the famous Fibonacci sequence or the Longest Increasing Subsequence, allowing individuals to practice applying these principles in a practical setting. Recognizing when to apply dynamic programming techniques is key to effectively solving problems and optimizing solutions.\n",
      "\n",
      "## Creating a Leetcode Study Plan\n",
      "\n",
      "To master dynamic programming on Leetcode, it is essential to set specific goals and objectives for skill improvement. Breaking down the study plan into manageable tasks and topics to cover can help individuals stay organized and focused on their learning journey. Utilizing resources such as tutorials on dynamic programming and practice problems on Leetcode can provide valuable insights and practice opportunities at different proficiency levels. By structuring their study plan effectively, individuals can track their progress and make adjustments as needed to ensure continuous improvement.\n",
      "\n",
      "## Implementing the Study Plan\n",
      "\n",
      "Effective time management and consistent practice are essential components of implementing a successful study plan for mastering dynamic programming on Leetcode. By dedicating regular time slots to practice and engaging with the community for support and feedback, individuals can stay motivated and on track with their learning goals. Tracking progress and adjusting the study plan based on performance can help individuals overcome challenges and make meaningful strides in their coding abilities. By actively participating in the Leetcode community, individuals can gain valuable insights, tips, and encouragement from like-minded individuals.\n",
      "\n",
      "## Call to Action\n",
      "\n",
      "I encourage readers to create their own Leetcode study plan focusing on dynamic programming to enhance their coding skills and master algorithmic problem-solving techniques. By utilizing the resources and tips provided in this opinion piece, individuals can structure a successful study plan tailored to their learning needs. Sharing experiences and progress with the community can provide additional motivation and support in achieving coding proficiency.\n",
      "\n",
      "By following this comprehensive content plan, individuals can equip themselves with the necessary tools and guidance to create a successful Leetcode study plan focusing on dynamic programming. With dedication and consistent practice, mastering dynamic programming on Leetcode is within reach for software developers, computer science students, and coding enthusiasts alike.\u001b[0m\n",
      "\n",
      "\u001b[1m> Finished chain.\u001b[0m\n",
      "\u001b[1m\u001b[92m [DEBUG]: == [Content Writer] Task output: # Create a Leetcode Study Plan: Mastering Dynamic Programming\n",
      "\n",
      "## Introduction\n",
      "\n",
      "Dynamic programming plays a crucial role in algorithmic problem-solving, offering efficient solutions to complex problems by breaking them down into smaller subproblems. Platforms like Leetcode provide a valuable resource for individuals to practice coding skills and enhance their understanding of dynamic programming techniques. By creating a structured study plan focused on mastering dynamic programming on Leetcode, individuals can benefit from consistent practice and improvement in their coding abilities.\n",
      "\n",
      "## Understanding Dynamic Programming\n",
      "\n",
      "Dynamic programming involves breaking down a problem into smaller subproblems and solving each subproblem only once, storing the results to avoid redundant computations. This approach greatly enhances the efficiency of algorithms and is particularly useful in solving optimization problems. Leetcode offers a wide range of dynamic programming problems, such as the famous Fibonacci sequence or the Longest Increasing Subsequence, allowing individuals to practice applying these principles in a practical setting. Recognizing when to apply dynamic programming techniques is key to effectively solving problems and optimizing solutions.\n",
      "\n",
      "## Creating a Leetcode Study Plan\n",
      "\n",
      "To master dynamic programming on Leetcode, it is essential to set specific goals and objectives for skill improvement. Breaking down the study plan into manageable tasks and topics to cover can help individuals stay organized and focused on their learning journey. Utilizing resources such as tutorials on dynamic programming and practice problems on Leetcode can provide valuable insights and practice opportunities at different proficiency levels. By structuring their study plan effectively, individuals can track their progress and make adjustments as needed to ensure continuous improvement.\n",
      "\n",
      "## Implementing the Study Plan\n",
      "\n",
      "Effective time management and consistent practice are essential components of implementing a successful study plan for mastering dynamic programming on Leetcode. By dedicating regular time slots to practice and engaging with the community for support and feedback, individuals can stay motivated and on track with their learning goals. Tracking progress and adjusting the study plan based on performance can help individuals overcome challenges and make meaningful strides in their coding abilities. By actively participating in the Leetcode community, individuals can gain valuable insights, tips, and encouragement from like-minded individuals.\n",
      "\n",
      "## Call to Action\n",
      "\n",
      "I encourage readers to create their own Leetcode study plan focusing on dynamic programming to enhance their coding skills and master algorithmic problem-solving techniques. By utilizing the resources and tips provided in this opinion piece, individuals can structure a successful study plan tailored to their learning needs. Sharing experiences and progress with the community can provide additional motivation and support in achieving coding proficiency.\n",
      "\n",
      "By following this comprehensive content plan, individuals can equip themselves with the necessary tools and guidance to create a successful Leetcode study plan focusing on dynamic programming. With dedication and consistent practice, mastering dynamic programming on Leetcode is within reach for software developers, computer science students, and coding enthusiasts alike.\n",
      "\n",
      "\u001b[00m\n",
      "\u001b[1m\u001b[95m [DEBUG]: == Working Agent: Editor\u001b[00m\n",
      "\u001b[1m\u001b[95m [INFO]: == Starting Task: Proofread the given blog post for grammatical errors and alignment with the brand's voice.\u001b[00m\n",
      "\n",
      "\n",
      "\u001b[1m> Entering new CrewAgentExecutor chain...\u001b[0m\n"
     ]
    },
    {
     "name": "stdout",
     "output_type": "stream",
     "text": [
      "\u001b[32;1m\u001b[1;3mI now can give a great answer\n",
      "\n",
      "Final Answer:\n",
      "# Create a Leetcode Study Plan: Mastering Dynamic Programming\n",
      "\n",
      "Dynamic programming serves as a fundamental technique in algorithmic problem-solving, enabling individuals to tackle complex problems by breaking them down into smaller, more manageable subproblems. Platforms like Leetcode offer a valuable opportunity for individuals to hone their coding skills and deepen their understanding of dynamic programming concepts. By developing a structured study plan centered around mastering dynamic programming on Leetcode, individuals can engage in consistent practice and witness tangible improvement in their coding proficiency.\n",
      "\n",
      "Understanding the core principles of dynamic programming is essential for effective problem-solving. This method involves dividing a problem into smaller subproblems and solving each subproblem only once while storing the results to prevent redundant computations. By leveraging dynamic programming techniques, individuals can significantly enhance the efficiency of their algorithms, particularly when addressing optimization problems. Leetcode presents a diverse array of dynamic programming challenges, including popular problems like the Fibonacci sequence and the Longest Increasing Subsequence, providing ample opportunities for individuals to apply these principles in a practical context.\n",
      "\n",
      "Mastering dynamic programming on Leetcode necessitates the development of a well-defined study plan. By establishing specific goals and outlining key learning objectives, individuals can structure their study plan in a manner that promotes organization and focus throughout their coding journey. Additionally, breaking down the study plan into manageable tasks and incorporating resources such as dynamic programming tutorials and practice problems on Leetcode can offer valuable insights and practice opportunities at varying levels of proficiency. Through diligent planning and regular self-assessment, individuals can monitor their progress, make necessary adjustments, and sustain continuous growth in their coding abilities.\u001b[0m\n",
      "\n",
      "\u001b[1m> Finished chain.\u001b[0m\n",
      "\u001b[1m\u001b[92m [DEBUG]: == [Editor] Task output: # Create a Leetcode Study Plan: Mastering Dynamic Programming\n",
      "\n",
      "Dynamic programming serves as a fundamental technique in algorithmic problem-solving, enabling individuals to tackle complex problems by breaking them down into smaller, more manageable subproblems. Platforms like Leetcode offer a valuable opportunity for individuals to hone their coding skills and deepen their understanding of dynamic programming concepts. By developing a structured study plan centered around mastering dynamic programming on Leetcode, individuals can engage in consistent practice and witness tangible improvement in their coding proficiency.\n",
      "\n",
      "Understanding the core principles of dynamic programming is essential for effective problem-solving. This method involves dividing a problem into smaller subproblems and solving each subproblem only once while storing the results to prevent redundant computations. By leveraging dynamic programming techniques, individuals can significantly enhance the efficiency of their algorithms, particularly when addressing optimization problems. Leetcode presents a diverse array of dynamic programming challenges, including popular problems like the Fibonacci sequence and the Longest Increasing Subsequence, providing ample opportunities for individuals to apply these principles in a practical context.\n",
      "\n",
      "Mastering dynamic programming on Leetcode necessitates the development of a well-defined study plan. By establishing specific goals and outlining key learning objectives, individuals can structure their study plan in a manner that promotes organization and focus throughout their coding journey. Additionally, breaking down the study plan into manageable tasks and incorporating resources such as dynamic programming tutorials and practice problems on Leetcode can offer valuable insights and practice opportunities at varying levels of proficiency. Through diligent planning and regular self-assessment, individuals can monitor their progress, make necessary adjustments, and sustain continuous growth in their coding abilities.\n",
      "\n",
      "\u001b[00m\n"
     ]
    }
   ],
   "source": [
    "topic = \"Create a leetcode study plan for me. I want to specifically focus on dynamic programming. \"\n",
    "result = crew.kickoff(inputs={\"topic\": topic})"
   ]
  },
  {
   "cell_type": "code",
   "execution_count": 19,
   "metadata": {
    "height": 30
   },
   "outputs": [
    {
     "data": {
      "text/markdown": [
       "# Create a Leetcode Study Plan: Mastering Dynamic Programming\n",
       "\n",
       "Dynamic programming serves as a fundamental technique in algorithmic problem-solving, enabling individuals to tackle complex problems by breaking them down into smaller, more manageable subproblems. Platforms like Leetcode offer a valuable opportunity for individuals to hone their coding skills and deepen their understanding of dynamic programming concepts. By developing a structured study plan centered around mastering dynamic programming on Leetcode, individuals can engage in consistent practice and witness tangible improvement in their coding proficiency.\n",
       "\n",
       "Understanding the core principles of dynamic programming is essential for effective problem-solving. This method involves dividing a problem into smaller subproblems and solving each subproblem only once while storing the results to prevent redundant computations. By leveraging dynamic programming techniques, individuals can significantly enhance the efficiency of their algorithms, particularly when addressing optimization problems. Leetcode presents a diverse array of dynamic programming challenges, including popular problems like the Fibonacci sequence and the Longest Increasing Subsequence, providing ample opportunities for individuals to apply these principles in a practical context.\n",
       "\n",
       "Mastering dynamic programming on Leetcode necessitates the development of a well-defined study plan. By establishing specific goals and outlining key learning objectives, individuals can structure their study plan in a manner that promotes organization and focus throughout their coding journey. Additionally, breaking down the study plan into manageable tasks and incorporating resources such as dynamic programming tutorials and practice problems on Leetcode can offer valuable insights and practice opportunities at varying levels of proficiency. Through diligent planning and regular self-assessment, individuals can monitor their progress, make necessary adjustments, and sustain continuous growth in their coding abilities."
      ],
      "text/plain": [
       "<IPython.core.display.Markdown object>"
      ]
     },
     "execution_count": 19,
     "metadata": {},
     "output_type": "execute_result"
    }
   ],
   "source": [
    "Markdown(result)"
   ]
  },
  {
   "cell_type": "markdown",
   "metadata": {},
   "source": [
    "<a name='1'></a>\n",
    " ## Other Popular Models as LLM for your Agents"
   ]
  },
  {
   "cell_type": "markdown",
   "metadata": {},
   "source": [
    "#### Hugging Face (HuggingFaceHub endpoint)\n",
    "\n",
    "```Python\n",
    "from langchain_community.llms import HuggingFaceHub\n",
    "\n",
    "llm = HuggingFaceHub(\n",
    "    repo_id=\"HuggingFaceH4/zephyr-7b-beta\",\n",
    "    huggingfacehub_api_token=\"<HF_TOKEN_HERE>\",\n",
    "    task=\"text-generation\",\n",
    ")\n",
    "\n",
    "### you will pass \"llm\" to your agent function\n",
    "```"
   ]
  },
  {
   "cell_type": "markdown",
   "metadata": {},
   "source": [
    "#### Mistral API\n",
    "\n",
    "```Python\n",
    "OPENAI_API_KEY=your-mistral-api-key\n",
    "OPENAI_API_BASE=https://api.mistral.ai/v1\n",
    "OPENAI_MODEL_NAME=\"mistral-small\"\n",
    "```"
   ]
  },
  {
   "cell_type": "markdown",
   "metadata": {},
   "source": [
    "#### Cohere\n",
    "\n",
    "```Python\n",
    "from langchain_community.chat_models import ChatCohere\n",
    "# Initialize language model\n",
    "os.environ[\"COHERE_API_KEY\"] = \"your-cohere-api-key\"\n",
    "llm = ChatCohere()\n",
    "\n",
    "### you will pass \"llm\" to your agent function\n",
    "```"
   ]
  },
  {
   "cell_type": "markdown",
   "metadata": {},
   "source": [
    "### For using Llama locally with Ollama and more, checkout the crewAI documentation on [Connecting to any LLM](https://docs.crewai.com/how-to/LLM-Connections/)."
   ]
  },
  {
   "cell_type": "code",
   "execution_count": null,
   "metadata": {
    "height": 30
   },
   "outputs": [],
   "source": []
  },
  {
   "cell_type": "code",
   "execution_count": null,
   "metadata": {
    "height": 30
   },
   "outputs": [],
   "source": []
  },
  {
   "cell_type": "code",
   "execution_count": null,
   "metadata": {
    "height": 30
   },
   "outputs": [],
   "source": []
  }
 ],
 "metadata": {
  "colab": {
   "gpuType": "T4",
   "provenance": []
  },
  "kernelspec": {
   "display_name": "Python 3 (ipykernel)",
   "language": "python",
   "name": "python3"
  },
  "language_info": {
   "codemirror_mode": {
    "name": "ipython",
    "version": 3
   },
   "file_extension": ".py",
   "mimetype": "text/x-python",
   "name": "python",
   "nbconvert_exporter": "python",
   "pygments_lexer": "ipython3",
   "version": "3.11.9"
  }
 },
 "nbformat": 4,
 "nbformat_minor": 4
}
